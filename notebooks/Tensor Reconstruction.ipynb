{
 "cells": [
  {
   "cell_type": "code",
   "execution_count": 2,
   "metadata": {},
   "outputs": [
    {
     "name": "stdout",
     "output_type": "stream",
     "text": [
      "/files/home/part5/dsuess/Xenial/tensors\n"
     ]
    }
   ],
   "source": [
    "cd tensors"
   ]
  },
  {
   "cell_type": "code",
   "execution_count": 3,
   "metadata": {},
   "outputs": [],
   "source": [
    "import mpnum as mp\n",
    "from altmin import AltminEstimator\n",
    "import itertools as it\n",
    "from tqdm import tqdm\n",
    "import matplotlib.pyplot as pl\n",
    "import pickle\n",
    "\n",
    "from mpnum.utils.extmath import randomized_svd"
   ]
  },
  {
   "cell_type": "code",
   "execution_count": 11,
   "metadata": {},
   "outputs": [],
   "source": [
    "SITES = 8\n",
    "RANK = 10\n",
    "DIM = 4\n",
    "m = int(0.2 * DIM**SITES)\n",
    "\n",
    "X = mp.random_mpa(SITES, DIM, RANK, normalized=True)"
   ]
  },
  {
   "cell_type": "code",
   "execution_count": 12,
   "metadata": {},
   "outputs": [
    {
     "name": "stderr",
     "output_type": "stream",
     "text": [
      "100%|██████████| 10/10 [00:26<00:00,  2.65s/it]\n",
      "100%|██████████| 10/10 [00:26<00:00,  2.67s/it]\n",
      "100%|██████████| 10/10 [00:26<00:00,  2.67s/it]\n",
      "100%|██████████| 10/10 [00:26<00:00,  2.65s/it]\n",
      "100%|██████████| 10/10 [00:26<00:00,  2.65s/it]\n",
      "100%|██████████| 10/10 [00:26<00:00,  2.64s/it]\n",
      "100%|██████████| 10/10 [00:26<00:00,  2.66s/it]\n",
      "100%|██████████| 10/10 [00:26<00:00,  2.67s/it]\n",
      "100%|██████████| 10/10 [00:26<00:00,  2.65s/it]\n",
      "100%|██████████| 10/10 [00:26<00:00,  2.66s/it]\n"
     ]
    },
    {
     "data": {
      "image/png": "[encoded data removed]",
      "text/plain": [
       "<matplotlib.figure.Figure at 0x7f03927d3978>"
      ]
     },
     "metadata": {},
     "output_type": "display_data"
    }
   ],
   "source": [
    "STEPS = 10\n",
    "\n",
    "def get_estims():\n",
    "    A = [mp.random_mpa(SITES, DIM, 1, normalized=True)\n",
    "         for _ in range(m)]\n",
    "    b = [mp.special.inner_prod_mps(a, X) for a in A]\n",
    "    X_init = mp.special.sumup(A, rank=RANK, weights=b, svdfunc=randomized_svd)\n",
    "    X_init /= mp.norm(X_init)\n",
    "    estim = AltminEstimator(A, b, 1, X_init=X_init.copy())\n",
    "    return [X_sharp for X_sharp in tqdm(it.islice(estim, STEPS), total=STEPS)]\n",
    "\n",
    "X_sharps = [get_estims() for _ in range(10)]\n",
    "\n",
    "for X_sharp in X_sharps:\n",
    "    pl.plot([mp.normdist(X, X_s) for X_s in X_sharp])"
   ]
  },
  {
   "cell_type": "code",
   "execution_count": 13,
   "metadata": {},
   "outputs": [],
   "source": [
    "with open('recoveries_rank10_20percent.pkl', 'wb') as buf:\n",
    "    pickle.dump((X, X_sharps), buf)"
   ]
  },
  {
   "cell_type": "code",
   "execution_count": null,
   "metadata": {},
   "outputs": [],
   "source": [
    "mp.normdist(X, X_sharps[0][0])"
   ]
  },
  {
   "cell_type": "code",
   "execution_count": null,
   "metadata": {},
   "outputs": [],
   "source": [
    "A = [mp.random_mpa(SITES, DIM, 1, normalized=True)\n",
    "     for _ in range(m)]\n",
    "b = [mp.special.inner_prod_mps(a, X) for a in A]\n",
    "X_init = mp.special.sumup(A, rank=RANK, weights=b, svdfunc=randomized_svd)\n",
    "X_init /= mp.norm(X_init)\n",
    "mp.normdist(X, X_init)"
   ]
  },
  {
   "cell_type": "code",
   "execution_count": null,
   "metadata": {},
   "outputs": [],
   "source": []
  }
 ],
 "metadata": {
  "kernelspec": {
   "display_name": "SSH l101.thp.uni-koeln.de THP",
   "language": "python",
   "name": "rik_ssh_l101_thp_uni_koeln_de_thp"
  }
 },
 "nbformat": 4,
 "nbformat_minor": 2
}
