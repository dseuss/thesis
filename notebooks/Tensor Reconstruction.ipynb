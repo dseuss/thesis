{
 "cells": [
  {
   "cell_type": "code",
   "execution_count": 1,
   "metadata": {},
   "outputs": [
    {
     "name": "stdout",
     "output_type": "stream",
     "text": [
      "/files/home/part5/dsuess/Xenial/tensors\n"
     ]
    }
   ],
   "source": [
    "cd tensors"
   ]
  },
  {
   "cell_type": "code",
   "execution_count": 2,
   "metadata": {},
   "outputs": [],
   "source": [
    "import mpnum as mp\n",
    "from altmin import AltminEstimator\n",
    "import itertools as it\n",
    "from tqdm import tqdm\n",
    "import matplotlib.pyplot as pl\n",
    "import pickle\n",
    "\n",
    "from mpnum.utils.extmath import randomized_svd"
   ]
  },
  {
   "cell_type": "code",
   "execution_count": 3,
   "metadata": {},
   "outputs": [],
   "source": [
    "SITES = 8\n",
    "RANK = 10\n",
    "DIM = 4\n",
    "m = int(0.2 * DIM**SITES)\n",
    "\n",
    "X = mp.random_mpa(SITES, DIM, RANK, normalized=True)"
   ]
  },
  {
   "cell_type": "code",
   "execution_count": null,
   "metadata": {},
   "outputs": [],
   "source": [
    "STEPS = 10\n",
    "\n",
    "def get_estims():\n",
    "    A = [mp.random_mpa(SITES, DIM, 1, normalized=True)\n",
    "         for _ in range(m)]\n",
    "    b = [mp.special.inner_prod_mps(a, X) for a in A]\n",
    "    X_init = mp.special.sumup(A, rank=RANK, weights=b, svdfunc=randomized_svd)\n",
    "    X_init /= mp.norm(X_init)\n",
    "    estim = AltminEstimator(A, b, 1, X_init=X_init.copy())\n",
    "    return [X_sharp for X_sharp in tqdm(it.islice(estim, STEPS), total=STEPS)]\n",
    "\n",
    "X_sharps = [get_estims() for _ in range(10)]\n",
    "\n",
    "for X_sharp in X_sharps:\n",
    "    pl.plot([mp.normdist(X, X_s) for X_s in X_sharp])"
   ]
  },
  {
   "cell_type": "code",
   "execution_count": null,
   "metadata": {},
   "outputs": [],
   "source": [
    "with open('recoveries_rank10_20percent.pkl', 'wb') as buf:\n",
    "    pickle.dump((X, X_sharps), buf)"
   ]
  },
  {
   "cell_type": "code",
   "execution_count": null,
   "metadata": {},
   "outputs": [],
   "source": [
    "mp.normdist(X, X_sharps[0][0])"
   ]
  },
  {
   "cell_type": "code",
   "execution_count": null,
   "metadata": {},
   "outputs": [],
   "source": [
    "A = [mp.random_mpa(SITES, DIM, 1, normalized=True)\n",
    "     for _ in range(m)]\n",
    "b = [mp.special.inner_prod_mps(a, X) for a in A]\n",
    "X_init = mp.special.sumup(A, rank=RANK, weights=b, svdfunc=randomized_svd)\n",
    "X_init /= mp.norm(X_init)\n",
    "mp.normdist(X, X_init)"
   ]
  },
  {
   "cell_type": "code",
   "execution_count": null,
   "metadata": {},
   "outputs": [],
   "source": [
    "A = [mp.random_mpa(SITES, DIM, 1, normalized=True)\n",
    "     for _ in range(m)]\n",
    "b = [mp.special.inner_prod_mps(a, X) for a in A]"
   ]
  },
  {
   "cell_type": "code",
   "execution_count": null,
   "metadata": {},
   "outputs": [],
   "source": [
    "def bench():\n",
    "    c = mp.sumup(A, weights=b)\n",
    "    c.compress(rank=10)\n",
    "    del c\n",
    "    \n",
    "%timeit bench()"
   ]
  },
  {
   "cell_type": "code",
   "execution_count": null,
   "metadata": {},
   "outputs": [],
   "source": [
    "len(A)"
   ]
  },
  {
   "cell_type": "code",
   "execution_count": null,
   "metadata": {},
   "outputs": [],
   "source": [
    "S.compress(rank=10)"
   ]
  },
  {
   "cell_type": "code",
   "execution_count": null,
   "metadata": {},
   "outputs": [],
   "source": []
  }
 ],
 "metadata": {
  "kernelspec": {
   "display_name": "SSH l101.thp.uni-koeln.de THP",
   "language": "python",
   "name": "rik_ssh_l101_thp_uni_koeln_de_thp"
  },
  "language_info": {
   "codemirror_mode": {
    "name": "ipython",
    "version": 3
   },
   "file_extension": ".py",
   "mimetype": "text/x-python",
   "name": "python",
   "nbconvert_exporter": "python",
   "pygments_lexer": "ipython3",
   "version": "3.6.4"
  }
 },
 "nbformat": 4,
 "nbformat_minor": 2
}
