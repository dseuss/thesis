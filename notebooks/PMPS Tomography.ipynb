{
 "cells": [
  {
   "cell_type": "code",
   "execution_count": 31,
   "metadata": {},
   "outputs": [],
   "source": [
    "import numpy as np\n",
    "import mpnum as mp\n",
    "import matplotlib.pyplot as pl\n",
    "from maxlike import MlEstimator, qubit_linear_cluster\n",
    "from mpnum.povm  import MPPovm, pauli_povm\n",
    "from tqdm import tqdm\n",
    "\n",
    "from IPython import display"
   ]
  },
  {
   "cell_type": "code",
   "execution_count": 2,
   "metadata": {},
   "outputs": [],
   "source": [
    "%load_ext autoreload\n",
    "%autoreload 2"
   ]
  },
  {
   "cell_type": "code",
   "execution_count": 158,
   "metadata": {},
   "outputs": [
    {
     "data": {
      "text/plain": [
       "((4, 5, 5, 5, 4), 1.0000000000000002)"
      ]
     },
     "execution_count": 158,
     "metadata": {},
     "output_type": "execute_result"
    }
   ],
   "source": [
    "N_QUBITS = 6\n",
    "R = 3\n",
    "epsilon = 0.1\n",
    "maximally_mixed = mp.eye(N_QUBITS, 2)\n",
    "maximally_mixed /= mp.trace(maximally_mixed)\n",
    "\n",
    "psi_0 = qubit_linear_cluster(N_QUBITS)\n",
    "rho_0 = (1 - epsilon) * mp.mpsmpo.mps_to_mpo(psi_0)\n",
    "rho_0 += epsilon * maximally_mixed\n",
    "norm = mp.norm(rho_0)\n",
    "overlap = rho_0.compress(rank=5)\n",
    "rho_0.ranks, overlap / (mp.norm(rho_0) * norm)"
   ]
  },
  {
   "cell_type": "code",
   "execution_count": 159,
   "metadata": {},
   "outputs": [],
   "source": [
    "local_pauli = pauli_povm(dim=2)\n",
    "povm = MPPovm.from_local_povm(local_pauli, width=R)\n",
    "expvals = [y.to_array() for y in povm.expectations(rho_0, mode='mpdo')]"
   ]
  },
  {
   "cell_type": "code",
   "execution_count": 160,
   "metadata": {},
   "outputs": [],
   "source": [
    "mle = MlEstimator(N_QUBITS, 2, povm, prop_compr_args={})\n",
    "R, _ = mle.propagator(rho_0, expvals)"
   ]
  },
  {
   "cell_type": "code",
   "execution_count": 163,
   "metadata": {},
   "outputs": [
    {
     "ename": "AttributeError",
     "evalue": "'MPArray' object has no attribute 'rank'",
     "output_type": "error",
     "traceback": [
      "\u001b[0;31m---------------------------------------------------------------------------\u001b[0m",
      "\u001b[0;31mAttributeError\u001b[0m                            Traceback (most recent call last)",
      "\u001b[0;32m<ipython-input-163-a8dc87d0d782>\u001b[0m in \u001b[0;36m<module>\u001b[0;34m()\u001b[0m\n\u001b[0;32m----> 1\u001b[0;31m \u001b[0mR\u001b[0m\u001b[0;34m.\u001b[0m\u001b[0mrank\u001b[0m\u001b[0;34m\u001b[0m\u001b[0m\n\u001b[0m",
      "\u001b[0;31mAttributeError\u001b[0m: 'MPArray' object has no attribute 'rank'"
     ]
    }
   ],
   "source": [
    "R.ranks"
   ]
  },
  {
   "cell_type": "code",
   "execution_count": 162,
   "metadata": {},
   "outputs": [
    {
     "data": {
      "text/plain": [
       "0.00099929872484192978"
      ]
     },
     "metadata": {},
     "output_type": "display_data"
    },
    {
     "name": "stdout",
     "output_type": "stream",
     "text": [
      "0.210345955733\n"
     ]
    },
    {
     "data": {
      "text/plain": [
       "[<matplotlib.lines.Line2D at 0x11f58d668>]"
      ]
     },
     "execution_count": 162,
     "metadata": {},
     "output_type": "execute_result"
    },
    {
     "data": {
      "image/png": "[encoded data removed]",
      "text/plain": [
       "<matplotlib.figure.Figure at 0x11eb3e320>"
      ]
     },
     "metadata": {},
     "output_type": "display_data"
    }
   ],
   "source": [
    "def solve_mpo(mle, expvals, dist, compr_args={}):\n",
    "    rho_init = mp.random_mpdo(N_QUBITS, ldim=2, rank=1)\n",
    "    it = mle._iterative_solution(expvals, rho_init, compr_args=compr_args)\n",
    "    rho_last = rho_init\n",
    "    for rho, loglike in it:\n",
    "        yield rho, loglike\n",
    "        normdist = mp.normdist(rho, rho_last)\n",
    "        display.clear_output(wait=True)\n",
    "        display.display(normdist)\n",
    "        if normdist < dist:\n",
    "            return\n",
    "        rho_last = rho\n",
    "\n",
    "mle = MlEstimator(N_QUBITS, 2, povm, prop_compr_args={'rank': 10})\n",
    "solution = list(solve_mpo(mle, expvals, 1e-3, compr_args={'rank': 7}))\n",
    "print(mp.normdist(solution[-1][0], rho_0))\n",
    "pl.plot([np.log(mp.normdist(rho, rho_0)) for rho, _ in solution]) "
   ]
  },
  {
   "cell_type": "code",
   "execution_count": 114,
   "metadata": {},
   "outputs": [],
   "source": [
    "nonhermicity = lambda x: mp.normdist(x, x.adj())"
   ]
  },
  {
   "cell_type": "code",
   "execution_count": 164,
   "metadata": {},
   "outputs": [
    {
     "data": {
      "text/plain": [
       "[<matplotlib.lines.Line2D at 0x11e1a6710>]"
      ]
     },
     "execution_count": 164,
     "metadata": {},
     "output_type": "execute_result"
    },
    {
     "data": {
      "image/png": "[encoded data removed]",
      "text/plain": [
       "<matplotlib.figure.Figure at 0x11ebddcc0>"
      ]
     },
     "metadata": {},
     "output_type": "display_data"
    }
   ],
   "source": [
    "pl.plot([np.log(nonhermicity(rho)) for rho, _ in solution])"
   ]
  },
  {
   "cell_type": "code",
   "execution_count": 165,
   "metadata": {},
   "outputs": [
    {
     "data": {
      "text/plain": [
       "[<matplotlib.lines.Line2D at 0x11ef84d30>]"
      ]
     },
     "execution_count": 165,
     "metadata": {},
     "output_type": "execute_result"
    },
    {
     "data": {
      "image/png": "[encoded data removed]",
      "text/plain": [
       "<matplotlib.figure.Figure at 0x11e1a6d68>"
      ]
     },
     "metadata": {},
     "output_type": "display_data"
    }
   ],
   "source": [
    "from mpnum.utils.array_transforms import local_to_global\n",
    "\n",
    "def eigvals(rho):\n",
    "    x = 1 / 2 * (rho + rho.adj()).to_array_global()\n",
    "    x_dim = np.prod([p for p, _ in rho.shape])\n",
    "    x = x.reshape((x_dim, x_dim))\n",
    "    return np.linalg.eigvalsh(x)\n",
    "\n",
    "pl.plot([min(eigvals(rho)) for rho, _ in solution])"
   ]
  },
  {
   "cell_type": "code",
   "execution_count": 170,
   "metadata": {},
   "outputs": [
    {
     "data": {
      "text/plain": [
       "9.9902629033341982e-06"
      ]
     },
     "metadata": {},
     "output_type": "display_data"
    },
    {
     "name": "stdout",
     "output_type": "stream",
     "text": [
      "0.149853243309\n"
     ]
    },
    {
     "data": {
      "text/plain": [
       "[<matplotlib.lines.Line2D at 0x11d983668>]"
      ]
     },
     "execution_count": 170,
     "metadata": {},
     "output_type": "execute_result"
    },
    {
     "data": {
      "image/png": "[encoded data removed]",
      "text/plain": [
       "<matplotlib.figure.Figure at 0x11f64d438>"
      ]
     },
     "metadata": {},
     "output_type": "display_data"
    }
   ],
   "source": [
    "def solve_pmps(mle, expvals, dist, compr_args={}):\n",
    "    psi_init = mp.random_mpo(N_QUBITS, 2, rank=1)\n",
    "    #psi_init = mp.mpsmpo.mps_to_pmps(mp.random_mps(N_QUBITS, 2, 1))\n",
    "    it = mle._iterative_solution_pmps(expvals, psi_init, compr_args=compr_args)\n",
    "    rho_last = mp.mpsmpo.pmps_to_mpo(psi_init)\n",
    "    for psi, loglike in it:\n",
    "        yield psi, loglike\n",
    "        rho = mp.mpsmpo.pmps_to_mpo(psi)\n",
    "        normdist = mp.normdist(rho, rho_last)\n",
    "        display.clear_output(wait=True)\n",
    "        display.display(normdist)\n",
    "        if normdist < dist:\n",
    "            return\n",
    "        rho_last = rho\n",
    "\n",
    "mle = MlEstimator(N_QUBITS, 2, povm, prop_compr_args={'rank': 10})\n",
    "solution = list(solve_pmps(mle, expvals, 1e-5, compr_args={'rank': 6}))\n",
    "print(mp.normdist(mp.mpsmpo.pmps_to_mpo(solution[-1][0]), rho_0))\n",
    "pl.plot([np.log(mp.normdist(mp.mpsmpo.pmps_to_mpo(psi), rho_0)) for psi, _ in solution]) "
   ]
  },
  {
   "cell_type": "code",
   "execution_count": 78,
   "metadata": {},
   "outputs": [
    {
     "data": {
      "text/plain": [
       "((2, 1), (2, 1), (2, 1), (2, 1), (2, 1), (2, 1), (2, 1))"
      ]
     },
     "execution_count": 78,
     "metadata": {},
     "output_type": "execute_result"
    }
   ],
   "source": [
    "mp.mpsmpo.mps_to_pmps(mp.random_mps(N_QUBITS, 2, 1)).shape"
   ]
  },
  {
   "cell_type": "code",
   "execution_count": null,
   "metadata": {},
   "outputs": [],
   "source": []
  }
 ],
 "metadata": {
  "kernelspec": {
   "display_name": "Python [conda env:phd]",
   "language": "python",
   "name": "conda-env-phd-py"
  },
  "language_info": {
   "codemirror_mode": {
    "name": "ipython",
    "version": 3
   },
   "file_extension": ".py",
   "mimetype": "text/x-python",
   "name": "python",
   "nbconvert_exporter": "python",
   "pygments_lexer": "ipython3",
   "version": "3.6.4"
  }
 },
 "nbformat": 4,
 "nbformat_minor": 2
}
